{
 "cells": [
  {
   "cell_type": "code",
   "execution_count": 2,
   "metadata": {},
   "outputs": [
    {
     "name": "stderr",
     "output_type": "stream",
     "text": [
      "2024-06-11 16:53:36.280144: I tensorflow/tsl/cuda/cudart_stub.cc:28] Could not find cuda drivers on your machine, GPU will not be used.\n",
      "2024-06-11 16:53:39.175192: E tensorflow/compiler/xla/stream_executor/cuda/cuda_dnn.cc:9342] Unable to register cuDNN factory: Attempting to register factory for plugin cuDNN when one has already been registered\n",
      "2024-06-11 16:53:39.175227: E tensorflow/compiler/xla/stream_executor/cuda/cuda_fft.cc:609] Unable to register cuFFT factory: Attempting to register factory for plugin cuFFT when one has already been registered\n",
      "2024-06-11 16:53:39.183298: E tensorflow/compiler/xla/stream_executor/cuda/cuda_blas.cc:1518] Unable to register cuBLAS factory: Attempting to register factory for plugin cuBLAS when one has already been registered\n",
      "2024-06-11 16:53:40.402023: I tensorflow/tsl/cuda/cudart_stub.cc:28] Could not find cuda drivers on your machine, GPU will not be used.\n",
      "2024-06-11 16:53:40.405359: I tensorflow/core/platform/cpu_feature_guard.cc:182] This TensorFlow binary is optimized to use available CPU instructions in performance-critical operations.\n",
      "To enable the following instructions: AVX2 FMA, in other operations, rebuild TensorFlow with the appropriate compiler flags.\n",
      "2024-06-11 16:53:54.232867: W tensorflow/compiler/tf2tensorrt/utils/py_utils.cc:38] TF-TRT Warning: Could not find TensorRT\n",
      "/usr/lib/python3/dist-packages/requests/__init__.py:87: RequestsDependencyWarning: urllib3 (2.0.7) or chardet (4.0.0) doesn't match a supported version!\n",
      "  warnings.warn(\"urllib3 ({}) or chardet ({}) doesn't match a supported \"\n"
     ]
    }
   ],
   "source": [
    "import tensorflow as tf\n",
    "import keras\n",
    "import numpy as np\n",
    "import matplotlib.pyplot as plt\n",
    "import subprocess\n",
    "import math"
   ]
  },
  {
   "cell_type": "code",
   "execution_count": 3,
   "metadata": {},
   "outputs": [
    {
     "name": "stdout",
     "output_type": "stream",
     "text": [
      "Model: \"sequential\"\n",
      "_________________________________________________________________\n",
      " Layer (type)                Output Shape              Param #   \n",
      "=================================================================\n",
      " dense (Dense)               (None, 1)                 2         \n",
      "                                                                 \n",
      "=================================================================\n",
      "Total params: 2 (8.00 Byte)\n",
      "Trainable params: 2 (8.00 Byte)\n",
      "Non-trainable params: 0 (0.00 Byte)\n",
      "_________________________________________________________________\n"
     ]
    },
    {
     "name": "stderr",
     "output_type": "stream",
     "text": [
      "2024-06-11 16:54:06.288219: I tensorflow/compiler/xla/stream_executor/cuda/cuda_gpu_executor.cc:880] could not open file to read NUMA node: /sys/bus/pci/devices/0000:01:00.0/numa_node\n",
      "Your kernel may have been built without NUMA support.\n",
      "2024-06-11 16:54:06.288934: W tensorflow/core/common_runtime/gpu/gpu_device.cc:2211] Cannot dlopen some GPU libraries. Please make sure the missing libraries mentioned above are installed properly if you would like to use GPU. Follow the guide at https://www.tensorflow.org/install/gpu for how to download and setup the required libraries for your platform.\n",
      "Skipping registering GPU devices...\n"
     ]
    }
   ],
   "source": [
    "model = keras.Sequential()\n",
    "model.add(keras.layers.Dense(1, activation='linear', input_shape=(1,)))\n",
    "model.summary()"
   ]
  },
  {
   "cell_type": "code",
   "execution_count": 4,
   "metadata": {},
   "outputs": [
    {
     "name": "stdout",
     "output_type": "stream",
     "text": [
      "[array([[1.]], dtype=float32), array([0.], dtype=float32)]\n"
     ]
    }
   ],
   "source": [
    "weight = np.ones((1, 1), dtype='float32')\n",
    "bias = np.zeros(1, dtype='float32')\n",
    "\n",
    "model.set_weights([weight, bias])\n",
    "print(model.get_weights())"
   ]
  },
  {
   "cell_type": "code",
   "execution_count": 5,
   "metadata": {},
   "outputs": [
    {
     "name": "stdout",
     "output_type": "stream",
     "text": [
      "4/4 [==============================] - 0s 3ms/step\n"
     ]
    },
    {
     "data": {
      "text/plain": [
       "Text(0, 0.5, 'debug net output')"
      ]
     },
     "execution_count": 5,
     "metadata": {},
     "output_type": "execute_result"
    },
    {
     "data": {
      "image/png": "[encoded data removed]",
      "text/plain": [
       "<Figure size 640x480 with 1 Axes>"
      ]
     },
     "metadata": {},
     "output_type": "display_data"
    }
   ],
   "source": [
    "input = np.linspace(-5, 5, 100)\n",
    "output = model.predict(input)\n",
    "plt.plot(input, output)\n",
    "plt.grid()\n",
    "plt.xlabel('input')\n",
    "plt.ylabel('debug net output')\n"
   ]
  },
  {
   "cell_type": "code",
   "execution_count": 6,
   "metadata": {},
   "outputs": [
    {
     "name": "stdout",
     "output_type": "stream",
     "text": [
      "INFO:tensorflow:Assets written to: /tmp/tmphv4h1567/assets\n"
     ]
    },
    {
     "name": "stderr",
     "output_type": "stream",
     "text": [
      "INFO:tensorflow:Assets written to: /tmp/tmphv4h1567/assets\n"
     ]
    },
    {
     "name": "stdout",
     "output_type": "stream",
     "text": [
      "INFO:tensorflow:Assets written to: /tmp/tmpzoq3ciuh/assets\n"
     ]
    },
    {
     "name": "stderr",
     "output_type": "stream",
     "text": [
      "2024-06-11 16:54:09.425957: W tensorflow/compiler/mlir/lite/python/tf_tfl_flatbuffer_helpers.cc:378] Ignored output_format.\n",
      "2024-06-11 16:54:09.426025: W tensorflow/compiler/mlir/lite/python/tf_tfl_flatbuffer_helpers.cc:381] Ignored drop_control_dependency.\n",
      "2024-06-11 16:54:09.430641: I tensorflow/cc/saved_model/reader.cc:83] Reading SavedModel from: /tmp/tmphv4h1567\n",
      "2024-06-11 16:54:09.431065: I tensorflow/cc/saved_model/reader.cc:51] Reading meta graph with tags { serve }\n",
      "2024-06-11 16:54:09.431081: I tensorflow/cc/saved_model/reader.cc:146] Reading SavedModel debug info (if present) from: /tmp/tmphv4h1567\n",
      "2024-06-11 16:54:09.432613: I tensorflow/compiler/mlir/mlir_graph_optimization_pass.cc:382] MLIR V1 optimization pass is not enabled\n",
      "2024-06-11 16:54:09.432933: I tensorflow/cc/saved_model/loader.cc:233] Restoring SavedModel bundle.\n",
      "2024-06-11 16:54:09.454704: I tensorflow/cc/saved_model/loader.cc:217] Running initialization op on SavedModel bundle at path: /tmp/tmphv4h1567\n",
      "2024-06-11 16:54:09.459918: I tensorflow/cc/saved_model/loader.cc:316] SavedModel load for tags { serve }; Status: success: OK. Took 29285 microseconds.\n",
      "2024-06-11 16:54:09.945707: I tensorflow/compiler/mlir/tensorflow/utils/dump_mlir_util.cc:269] disabling MLIR crash reproducer, set env var `MLIR_CRASH_REPRODUCER_DIRECTORY` to enable.\n",
      "INFO:tensorflow:Assets written to: /tmp/tmpzoq3ciuh/assets\n"
     ]
    },
    {
     "name": "stdout",
     "output_type": "stream",
     "text": [
      "INFO:tensorflow:Assets written to: /tmp/tmplbo9lqf7/assets\n"
     ]
    },
    {
     "name": "stderr",
     "output_type": "stream",
     "text": [
      "2024-06-11 16:54:10.737733: W tensorflow/compiler/mlir/lite/python/tf_tfl_flatbuffer_helpers.cc:378] Ignored output_format.\n",
      "2024-06-11 16:54:10.737782: W tensorflow/compiler/mlir/lite/python/tf_tfl_flatbuffer_helpers.cc:381] Ignored drop_control_dependency.\n",
      "2024-06-11 16:54:10.738138: I tensorflow/cc/saved_model/reader.cc:83] Reading SavedModel from: /tmp/tmpzoq3ciuh\n",
      "2024-06-11 16:54:10.738506: I tensorflow/cc/saved_model/reader.cc:51] Reading meta graph with tags { serve }\n",
      "2024-06-11 16:54:10.738517: I tensorflow/cc/saved_model/reader.cc:146] Reading SavedModel debug info (if present) from: /tmp/tmpzoq3ciuh\n",
      "2024-06-11 16:54:10.739399: I tensorflow/cc/saved_model/loader.cc:233] Restoring SavedModel bundle.\n",
      "2024-06-11 16:54:10.750091: I tensorflow/cc/saved_model/loader.cc:217] Running initialization op on SavedModel bundle at path: /tmp/tmpzoq3ciuh\n",
      "2024-06-11 16:54:10.756187: I tensorflow/cc/saved_model/loader.cc:316] SavedModel load for tags { serve }; Status: success: OK. Took 18051 microseconds.\n",
      "INFO:tensorflow:Assets written to: /tmp/tmplbo9lqf7/assets\n",
      "/home/gergo/.local/lib/python3.10/site-packages/tensorflow/lite/python/convert.py:947: UserWarning: Statistics for quantized inputs were expected, but not specified; continuing anyway.\n",
      "  warnings.warn(\n",
      "2024-06-11 16:54:11.065200: W tensorflow/compiler/mlir/lite/python/tf_tfl_flatbuffer_helpers.cc:378] Ignored output_format.\n",
      "2024-06-11 16:54:11.065251: W tensorflow/compiler/mlir/lite/python/tf_tfl_flatbuffer_helpers.cc:381] Ignored drop_control_dependency.\n",
      "2024-06-11 16:54:11.065439: I tensorflow/cc/saved_model/reader.cc:83] Reading SavedModel from: /tmp/tmplbo9lqf7\n",
      "2024-06-11 16:54:11.065785: I tensorflow/cc/saved_model/reader.cc:51] Reading meta graph with tags { serve }\n",
      "2024-06-11 16:54:11.065796: I tensorflow/cc/saved_model/reader.cc:146] Reading SavedModel debug info (if present) from: /tmp/tmplbo9lqf7\n",
      "2024-06-11 16:54:11.066622: I tensorflow/cc/saved_model/loader.cc:233] Restoring SavedModel bundle.\n",
      "2024-06-11 16:54:11.077052: I tensorflow/cc/saved_model/loader.cc:217] Running initialization op on SavedModel bundle at path: /tmp/tmplbo9lqf7\n",
      "2024-06-11 16:54:11.081034: I tensorflow/cc/saved_model/loader.cc:316] SavedModel load for tags { serve }; Status: success: OK. Took 15595 microseconds.\n",
      "fully_quantize: 0, inference_type: 6, input_inference_type: FLOAT32, output_inference_type: FLOAT32\n"
     ]
    },
    {
     "name": "stdout",
     "output_type": "stream",
     "text": [
      "INFO:tensorflow:Assets written to: /tmp/tmpnv1irek3/assets\n"
     ]
    },
    {
     "name": "stderr",
     "output_type": "stream",
     "text": [
      "INFO:tensorflow:Assets written to: /tmp/tmpnv1irek3/assets\n",
      "/home/gergo/.local/lib/python3.10/site-packages/tensorflow/lite/python/convert.py:947: UserWarning: Statistics for quantized inputs were expected, but not specified; continuing anyway.\n",
      "  warnings.warn(\n",
      "2024-06-11 16:54:11.515547: W tensorflow/compiler/mlir/lite/python/tf_tfl_flatbuffer_helpers.cc:378] Ignored output_format.\n",
      "2024-06-11 16:54:11.515592: W tensorflow/compiler/mlir/lite/python/tf_tfl_flatbuffer_helpers.cc:381] Ignored drop_control_dependency.\n",
      "2024-06-11 16:54:11.515767: I tensorflow/cc/saved_model/reader.cc:83] Reading SavedModel from: /tmp/tmpnv1irek3\n",
      "2024-06-11 16:54:11.516192: I tensorflow/cc/saved_model/reader.cc:51] Reading meta graph with tags { serve }\n",
      "2024-06-11 16:54:11.516205: I tensorflow/cc/saved_model/reader.cc:146] Reading SavedModel debug info (if present) from: /tmp/tmpnv1irek3\n",
      "2024-06-11 16:54:11.517104: I tensorflow/cc/saved_model/loader.cc:233] Restoring SavedModel bundle.\n",
      "2024-06-11 16:54:11.528358: I tensorflow/cc/saved_model/loader.cc:217] Running initialization op on SavedModel bundle at path: /tmp/tmpnv1irek3\n",
      "2024-06-11 16:54:11.532687: I tensorflow/cc/saved_model/loader.cc:316] SavedModel load for tags { serve }; Status: success: OK. Took 16920 microseconds.\n",
      "fully_quantize: 0, inference_type: 6, input_inference_type: INT8, output_inference_type: INT8\n"
     ]
    },
    {
     "data": {
      "text/plain": [
       "1104"
      ]
     },
     "execution_count": 6,
     "metadata": {},
     "output_type": "execute_result"
    }
   ],
   "source": [
    "debug_model_name = 'debug_model'\n",
    "\n",
    "model.save(f'{debug_model_name}.keras')\n",
    "\n",
    "## NO quanitization\n",
    "converter = tf.lite.TFLiteConverter.from_keras_model(model)\n",
    "tflite_model = converter.convert()\n",
    "open(f'{debug_model_name}_no_quant.tflite', 'wb').write(tflite_model)\n",
    "\n",
    "## Dynamic range quantization\n",
    "converter = tf.lite.TFLiteConverter.from_keras_model(model)\n",
    "converter.optimizations = [tf.lite.Optimize.DEFAULT]\n",
    "tflite_model_dyn_quant = converter.convert()\n",
    "open(f'{debug_model_name}_dyn_quant.tflite', 'wb').write(tflite_model_dyn_quant)\n",
    "\n",
    "## Float fallback quantization\n",
    "x_values = np.random.uniform(low=0, high=2 * math.pi,\n",
    "                             size=1000).astype(np.float32)\n",
    "np.random.shuffle(x_values)\n",
    "def representative_dataset():\n",
    "    for x_value in x_values:\n",
    "        yield [x_value.reshape(1, 1)]\n",
    "\n",
    "converter = tf.lite.TFLiteConverter.from_keras_model(model)\n",
    "converter.optimizations = [tf.lite.Optimize.DEFAULT]\n",
    "converter.representative_dataset = representative_dataset\n",
    "tflite_model_fb_quant = converter.convert()\n",
    "open(f'{debug_model_name}_fb_quant.tflite', 'wb').write(tflite_model_fb_quant)\n",
    "\n",
    "## Full integer quanitzation\n",
    "converter = tf.lite.TFLiteConverter.from_keras_model(model)\n",
    "converter.optimizations = [tf.lite.Optimize.DEFAULT]\n",
    "converter.target_spec.supported_ops = [tf.lite.OpsSet.TFLITE_BUILTINS_INT8]\n",
    "converter.inference_input_type = tf.int8\n",
    "converter.inference_output_type = tf.int8\n",
    "converter.representative_dataset = representative_dataset\n",
    "tflite_model_full_quant = converter.convert()\n",
    "open(f'{debug_model_name}_full_quant.tflite', 'wb').write(tflite_model_full_quant)"
   ]
  },
  {
   "cell_type": "code",
   "execution_count": 7,
   "metadata": {},
   "outputs": [],
   "source": [
    "def write_tflite_model_to_file(debug_model_name, model_name_postfix):\n",
    "    cmd = f\"xxd -i {debug_model_name}{model_name_postfix}.tflite\"\n",
    "    compl = subprocess.run(cmd, shell=True, stdout=subprocess.PIPE)\n",
    "    model_c_arr = compl.stdout.decode(encoding='ascii')\n",
    "    with open(f'{debug_model_name}{model_name_postfix}.h', 'w') as header:\n",
    "        header.write(f'#ifndef {debug_model_name.upper()}{model_name_postfix.upper()}_H\\r\\n')\n",
    "        header.write(f'#define {debug_model_name.upper()}{model_name_postfix.upper()}_H\\r\\n')\n",
    "        header.write('\\r\\n')\n",
    "        header.write(model_c_arr)\n",
    "        header.write('\\r\\n')\n",
    "        header.write(f'#endif // {debug_model_name.upper()}{model_name_postfix.upper()}_H\\r\\n')\n",
    "\n",
    "write_tflite_model_to_file(debug_model_name, '_no_quant')\n",
    "write_tflite_model_to_file(debug_model_name, '_dyn_quant')\n",
    "write_tflite_model_to_file(debug_model_name, '_fb_quant')\n",
    "write_tflite_model_to_file(debug_model_name, '_full_quant')"
   ]
  },
  {
   "cell_type": "code",
   "execution_count": 12,
   "metadata": {},
   "outputs": [
    {
     "name": "stdout",
     "output_type": "stream",
     "text": [
      "serving_default_dense_input:0\n",
      "\t [1 1]\n",
      "\t <class 'numpy.float32'>\n",
      "\t {'scales': array([], dtype=float32), 'zero_points': array([], dtype=int32), 'quantized_dimension': 0}\n",
      "sequential/dense/MatMul1\n",
      "\t [1 1]\n",
      "\t <class 'numpy.int8'>\n",
      "\t {'scales': array([0.00787402], dtype=float32), 'zero_points': array([0], dtype=int32), 'quantized_dimension': 0}\n",
      "tfl.quantize\n",
      "\t [1 1]\n",
      "\t <class 'numpy.int8'>\n",
      "\t {'scales': array([0.02461355], dtype=float32), 'zero_points': array([-128], dtype=int32), 'quantized_dimension': 0}\n",
      "StatefulPartitionedCall:01\n",
      "\t [1 1]\n",
      "\t <class 'numpy.int8'>\n",
      "\t {'scales': array([0.02461355], dtype=float32), 'zero_points': array([-128], dtype=int32), 'quantized_dimension': 0}\n",
      "StatefulPartitionedCall:0\n",
      "\t [1 1]\n",
      "\t <class 'numpy.float32'>\n",
      "\t {'scales': array([], dtype=float32), 'zero_points': array([], dtype=int32), 'quantized_dimension': 0}\n"
     ]
    }
   ],
   "source": [
    "# Initialize the interpreter\n",
    "model_name_postfix =  '_fb_quant' # '_full_quant', '_no_quant', '_dyn_quant'\n",
    "interpreter = tf.lite.Interpreter(model_path=f'{debug_model_name}{model_name_postfix}.tflite')\n",
    "interpreter.allocate_tensors()\n",
    "\n",
    "tensor_details = interpreter.get_tensor_details()\n",
    "input_details = interpreter.get_input_details()[0]\n",
    "output_details = interpreter.get_output_details()[0]\n",
    "\n",
    "for detail in tensor_details:\n",
    "    print(detail['name'])\n",
    "    print('\\t', detail['shape'])\n",
    "    print('\\t', detail['dtype'])\n",
    "    print('\\t', detail['quantization_parameters'])\n",
    "\n",
    "# predictions = np.zeros((len(test_image_indices),), dtype=int)\n",
    "# for i, test_image_index in enumerate(test_image_indices):\n",
    "# test_image = test_images[test_image_index]\n",
    "\n",
    "# # Check if the input type is quantized, then rescale input data to uint8\n",
    "# if input_details['dtype'] == np.uint8:\n",
    "#     input_scale, input_zero_point = input_details[\"quantization\"]\n",
    "#     test_image = test_image / input_scale + input_zero_point\n",
    "\n",
    "# test_image = np.expand_dims(test_image, axis=0).astype(input_details[\"dtype\"])\n",
    "# interpreter.set_tensor(input_details[\"index\"], test_image)\n",
    "# interpreter.invoke()\n",
    "# output = interpreter.get_tensor(output_details[\"index\"])[0]\n"
   ]
  }
 ],
 "metadata": {
  "kernelspec": {
   "display_name": "Python 3",
   "language": "python",
   "name": "python3"
  },
  "language_info": {
   "codemirror_mode": {
    "name": "ipython",
    "version": 3
   },
   "file_extension": ".py",
   "mimetype": "text/x-python",
   "name": "python",
   "nbconvert_exporter": "python",
   "pygments_lexer": "ipython3",
   "version": "3.10.12"
  }
 },
 "nbformat": 4,
 "nbformat_minor": 2
}
